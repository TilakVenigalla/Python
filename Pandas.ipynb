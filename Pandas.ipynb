{
  "nbformat": 4,
  "nbformat_minor": 0,
  "metadata": {
    "colab": {
      "provenance": [],
      "authorship_tag": "ABX9TyNMPaP5wIdmonVHSOXTd0aW",
      "include_colab_link": true
    },
    "kernelspec": {
      "name": "python3",
      "display_name": "Python 3"
    },
    "language_info": {
      "name": "python"
    }
  },
  "cells": [
    {
      "cell_type": "markdown",
      "metadata": {
        "id": "view-in-github",
        "colab_type": "text"
      },
      "source": [
        "<a href=\"https://colab.research.google.com/github/TilakVenigalla/Python/blob/main/Pandas.ipynb\" target=\"_parent\"><img src=\"https://colab.research.google.com/assets/colab-badge.svg\" alt=\"Open In Colab\"/></a>"
      ]
    },
    {
      "cell_type": "markdown",
      "source": [
        "Pandas is a Python library.\n",
        "\n",
        "Pandas is used to analyze data."
      ],
      "metadata": {
        "id": "BAae_YQbrfjv"
      }
    },
    {
      "cell_type": "code",
      "source": [
        "import pandas as pd\n",
        "\n",
        "print(pd.__version__)"
      ],
      "metadata": {
        "id": "fM1lXTkgr2xl",
        "outputId": "425d5114-ec28-4b78-b8e0-f8a2eef37507",
        "colab": {
          "base_uri": "https://localhost:8080/"
        }
      },
      "execution_count": null,
      "outputs": [
        {
          "output_type": "stream",
          "name": "stdout",
          "text": [
            "2.2.2\n"
          ]
        }
      ]
    },
    {
      "cell_type": "code",
      "source": [
        "# Pandas Series is like a column in a table\n",
        "import pandas as pd\n",
        "\n",
        "a = [1, 7, 2]\n",
        "\n",
        "myvar = pd.Series(a)\n",
        "\n",
        "print(myvar)\n",
        "\n",
        "myvar = pd.Series(a, index = [\"x\", \"y\", \"z\"])\n",
        "\n",
        "print(myvar)\n"
      ],
      "metadata": {
        "id": "HpaR_aPisa38",
        "outputId": "7c9f67da-aa1d-4a0a-e07b-e6f24979cfd6",
        "colab": {
          "base_uri": "https://localhost:8080/"
        }
      },
      "execution_count": null,
      "outputs": [
        {
          "output_type": "stream",
          "name": "stdout",
          "text": [
            "0    1\n",
            "1    7\n",
            "2    2\n",
            "dtype: int64\n",
            "x    1\n",
            "y    7\n",
            "z    2\n",
            "dtype: int64\n"
          ]
        }
      ]
    },
    {
      "cell_type": "markdown",
      "source": [],
      "metadata": {
        "id": "OmasF45Qre1B"
      }
    },
    {
      "cell_type": "code",
      "source": [
        "# Pandas DataFrame is a 2 dimensional data structure\n",
        "import pandas\n",
        "\n",
        "mydataset = {\n",
        "  'cars': [\"BMW\", \"Volvo\", \"Ford\"],\n",
        "  'passings': [3, 7, 2]\n",
        "}\n",
        "\n",
        "myvar = pandas.DataFrame(mydataset)\n",
        "\n",
        "print(myvar)"
      ],
      "metadata": {
        "id": "Q9BUjwXnvXUz",
        "outputId": "582b1b87-8dde-4916-862e-3324d728861b",
        "colab": {
          "base_uri": "https://localhost:8080/"
        }
      },
      "execution_count": null,
      "outputs": [
        {
          "output_type": "stream",
          "name": "stdout",
          "text": [
            "    cars  passings\n",
            "0    BMW         3\n",
            "1  Volvo         7\n",
            "2   Ford         2\n"
          ]
        }
      ]
    },
    {
      "cell_type": "code",
      "source": [
        "import pandas as pd\n",
        "\n",
        "df = pd.read_csv('/content/data.csv')\n",
        "\n",
        "print(df.to_string())  # to_string() to print the entire DataFrame"
      ],
      "metadata": {
        "id": "zj5srLq7yKul",
        "outputId": "39e329b9-2daa-4fa9-ebf9-6cc2350c5f01",
        "colab": {
          "base_uri": "https://localhost:8080/"
        }
      },
      "execution_count": null,
      "outputs": [
        {
          "output_type": "stream",
          "name": "stdout",
          "text": [
            "           Car       Model  Volume  Weight  CO2\n",
            "0       Toyoty        Aygo    1000     790   99\n",
            "1   Mitsubishi  Space Star    1200    1160   95\n",
            "2        Skoda      Citigo    1000     929   95\n",
            "3         Fiat         500     900     865   90\n",
            "4         Mini      Cooper    1500    1140  105\n",
            "5           VW         Up!    1000     929  105\n",
            "6        Skoda       Fabia    1400    1109   90\n",
            "7     Mercedes     A-Class    1500    1365   92\n",
            "8         Ford      Fiesta    1500    1112   98\n",
            "9         Audi          A1    1600    1150   99\n",
            "10     Hyundai         I20    1100     980   99\n",
            "11      Suzuki       Swift    1300     990  101\n",
            "12        Ford      Fiesta    1000    1112   99\n",
            "13       Honda       Civic    1600    1252   94\n",
            "14      Hundai         I30    1600    1326   97\n",
            "15        Opel       Astra    1600    1330   97\n",
            "16         BMW           1    1600    1365   99\n",
            "17       Mazda           3    2200    1280  104\n",
            "18       Skoda       Rapid    1600    1119  104\n",
            "19        Ford       Focus    2000    1328  105\n",
            "20        Ford      Mondeo    1600    1584   94\n",
            "21        Opel    Insignia    2000    1428   99\n",
            "22    Mercedes     C-Class    2100    1365   99\n",
            "23       Skoda     Octavia    1600    1415   99\n",
            "24       Volvo         S60    2000    1415   99\n",
            "25    Mercedes         CLA    1500    1465  102\n",
            "26        Audi          A4    2000    1490  104\n",
            "27        Audi          A6    2000    1725  114\n",
            "28       Volvo         V70    1600    1523  109\n",
            "29         BMW           5    2000    1705  114\n",
            "30    Mercedes     E-Class    2100    1605  115\n",
            "31       Volvo        XC70    2000    1746  117\n",
            "32        Ford       B-Max    1600    1235  104\n",
            "33         BMW         216    1600    1390  108\n",
            "34        Opel      Zafira    1600    1405  109\n",
            "35    Mercedes         SLK    2500    1395  120\n"
          ]
        }
      ]
    },
    {
      "cell_type": "code",
      "source": [
        "print(df.head(5)) #  first 10 rows of the DataFrame\n",
        "\n",
        "print(df.tail()) # Print the last 5 rows of the DataFrame"
      ],
      "metadata": {
        "id": "xK4xUey30KIf",
        "outputId": "600a285c-8a03-4012-f419-c7c00193f1f1",
        "colab": {
          "base_uri": "https://localhost:8080/"
        }
      },
      "execution_count": null,
      "outputs": [
        {
          "output_type": "stream",
          "name": "stdout",
          "text": [
            "          Car       Model  Volume  Weight  CO2\n",
            "0      Toyoty        Aygo    1000     790   99\n",
            "1  Mitsubishi  Space Star    1200    1160   95\n",
            "2       Skoda      Citigo    1000     929   95\n",
            "3        Fiat         500     900     865   90\n",
            "4        Mini      Cooper    1500    1140  105\n",
            "         Car   Model  Volume  Weight  CO2\n",
            "31     Volvo    XC70    2000    1746  117\n",
            "32      Ford   B-Max    1600    1235  104\n",
            "33       BMW     216    1600    1390  108\n",
            "34      Opel  Zafira    1600    1405  109\n",
            "35  Mercedes     SLK    2500    1395  120\n"
          ]
        }
      ]
    },
    {
      "cell_type": "code",
      "source": [
        "print(df.info())\n",
        "\n",
        "print(df.duplicated()) # True for duplicate, otherwise False"
      ],
      "metadata": {
        "id": "U28WNoO12OzZ",
        "outputId": "6b75311f-cd55-441f-8919-e0d5844f75fb",
        "colab": {
          "base_uri": "https://localhost:8080/"
        }
      },
      "execution_count": null,
      "outputs": [
        {
          "output_type": "stream",
          "name": "stdout",
          "text": [
            "<class 'pandas.core.frame.DataFrame'>\n",
            "RangeIndex: 36 entries, 0 to 35\n",
            "Data columns (total 5 columns):\n",
            " #   Column  Non-Null Count  Dtype \n",
            "---  ------  --------------  ----- \n",
            " 0   Car     36 non-null     object\n",
            " 1   Model   36 non-null     object\n",
            " 2   Volume  36 non-null     int64 \n",
            " 3   Weight  36 non-null     int64 \n",
            " 4   CO2     36 non-null     int64 \n",
            "dtypes: int64(3), object(2)\n",
            "memory usage: 1.5+ KB\n",
            "None\n",
            "0     False\n",
            "1     False\n",
            "2     False\n",
            "3     False\n",
            "4     False\n",
            "5     False\n",
            "6     False\n",
            "7     False\n",
            "8     False\n",
            "9     False\n",
            "10    False\n",
            "11    False\n",
            "12    False\n",
            "13    False\n",
            "14    False\n",
            "15    False\n",
            "16    False\n",
            "17    False\n",
            "18    False\n",
            "19    False\n",
            "20    False\n",
            "21    False\n",
            "22    False\n",
            "23    False\n",
            "24    False\n",
            "25    False\n",
            "26    False\n",
            "27    False\n",
            "28    False\n",
            "29    False\n",
            "30    False\n",
            "31    False\n",
            "32    False\n",
            "33    False\n",
            "34    False\n",
            "35    False\n",
            "dtype: bool\n"
          ]
        }
      ]
    },
    {
      "cell_type": "code",
      "source": [
        "import pandas as pd\n",
        "\n",
        "df = pd.read_csv('/content/Calories.csv')\n",
        "\n",
        "#new_df = df.dropna()\n",
        "\n",
        "print(df.to_string())"
      ],
      "metadata": {
        "id": "85_BpYjd372n",
        "outputId": "c0db3ff1-7df3-4016-b056-2699539cf265",
        "colab": {
          "base_uri": "https://localhost:8080/"
        }
      },
      "execution_count": 3,
      "outputs": [
        {
          "output_type": "stream",
          "name": "stdout",
          "text": [
            "    Duration        Date  Pulse  Maxpulse  Calories\n",
            "0         30  09-12-2020    109       133     195.1\n",
            "1         45  04-12-2020    109       175     282.4\n",
            "2         45  05-12-2020    117       148     406.0\n",
            "3         45  20-12-2020     97       125     243.0\n",
            "4         45  24-12-2020    105       132     246.0\n",
            "5         45  24-18-2020     90       112       NaN\n",
            "6         45         NaN    100       119     282.0\n",
            "7         50  08-12-2020    104       134     253.3\n",
            "8         60  02-12-2020    117       145     479.0\n",
            "9         60  01-12-2020    110       130     409.1\n",
            "10        60  03-12-2020    103       135     340.0\n",
            "11        60  06-12-2020    102       127     300.0\n",
            "12        60  07-12-2020    110       136     374.0\n",
            "13        60  10-12-2020     98       124     269.0\n",
            "14        60  11-12-2020    103       147     329.3\n",
            "15        60  12-12-2020    100       120     250.7\n",
            "16        60  12-12-2020    100       120     250.7\n",
            "17        60  13-12-2020    106       128     345.3\n",
            "18        60  14-12-2020    104       132     379.3\n",
            "19        60  15-12-2020     98       123     275.0\n",
            "20        60  16-12-2020     98       120     215.2\n",
            "21        60  17-12-2020    100       120     300.0\n",
            "22        60  19-12-2020    103       123     323.0\n",
            "23        60  21-12-2020    108       131     364.2\n",
            "24        60  23-12-2020    130       101     300.0\n",
            "25        60  25-12-2020    102       126     334.5\n",
            "26        60   2020/12/2    100       120     250.0\n",
            "27        60  27-12-2020     92       118     241.0\n",
            "28        60  29-12-2020    100       132     280.0\n",
            "29        60  30-12-2020    102       129     380.3\n",
            "30        60  31-12-2020     92       115     243.0\n",
            "31        50  01-01-2021     92       115       NaN\n"
          ]
        }
      ]
    }
  ]
}