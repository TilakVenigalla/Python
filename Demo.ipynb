{
  "nbformat": 4,
  "nbformat_minor": 0,
  "metadata": {
    "colab": {
      "provenance": [],
      "toc_visible": true,
      "authorship_tag": "ABX9TyO3KFVDbVAodOJgwcJraTFz",
      "include_colab_link": true
    },
    "kernelspec": {
      "name": "python3",
      "display_name": "Python 3"
    },
    "language_info": {
      "name": "python"
    }
  },
  "cells": [
    {
      "cell_type": "markdown",
      "metadata": {
        "id": "view-in-github",
        "colab_type": "text"
      },
      "source": [
        "<a href=\"https://colab.research.google.com/github/TilakVenigalla/Python/blob/main/Demo.ipynb\" target=\"_parent\"><img src=\"https://colab.research.google.com/assets/colab-badge.svg\" alt=\"Open In Colab\"/></a>"
      ]
    },
    {
      "cell_type": "markdown",
      "source": [
        "**Welcome to Python Demo**"
      ],
      "metadata": {
        "id": "wQM_BFfh_WZV"
      }
    },
    {
      "cell_type": "code",
      "source": [
        "! python --version"
      ],
      "metadata": {
        "colab": {
          "base_uri": "https://localhost:8080/"
        },
        "id": "DJgi25d0G03m",
        "outputId": "fcd2368d-4f89-42f6-b574-5479f085c50b"
      },
      "execution_count": null,
      "outputs": [
        {
          "output_type": "stream",
          "name": "stdout",
          "text": [
            "Python 3.11.12\n"
          ]
        }
      ]
    },
    {
      "cell_type": "code",
      "execution_count": null,
      "metadata": {
        "colab": {
          "base_uri": "https://localhost:8080/"
        },
        "id": "6ShSETAQP5Da",
        "outputId": "fd3af321-efe9-4145-afd1-c36c91308229"
      },
      "outputs": [
        {
          "output_type": "stream",
          "name": "stdout",
          "text": [
            "Welcome to Python Demo!\n"
          ]
        }
      ],
      "source": [
        "# This is a single-line comment\n",
        "\n",
        "\"\"\"\n",
        "This is a multi-line comment.\n",
        "It can span across multiple lines.\n",
        "\"\"\"\n",
        "print(\"Welcome to Python Demo!\")\n"
      ]
    },
    {
      "cell_type": "markdown",
      "source": [
        "Variables are containers for storing data values. Python has no command for declaring a variable"
      ],
      "metadata": {
        "id": "AaW7BxLtWgbj"
      }
    },
    {
      "cell_type": "code",
      "source": [
        "x = 5  # x is of type int\n",
        "y = \"Python\"  # y is of type str\n",
        "z = float(3) # z is of type float\n",
        "print(x)\n",
        "print(y)\n",
        "print(z)\n",
        "print(type(x))\n",
        "print(type(y))\n",
        "print(type(z))\n",
        "\n",
        "# Assign values to multiple variables in one line\n",
        "x, y, z = \"Orange\", \"Banana\", \"Cherry\"\n",
        "print(x)\n",
        "print(y)\n",
        "print(z)\n",
        "\n",
        "# Assign the same value to multiple variables in one line\n",
        "x = y = z = \"Orange\"\n",
        "print(x)\n",
        "print(y)\n",
        "print(z)"
      ],
      "metadata": {
        "colab": {
          "base_uri": "https://localhost:8080/"
        },
        "id": "YIYetOGDWXeD",
        "outputId": "4e776b81-d26c-427e-c832-3a1bafd6d890"
      },
      "execution_count": null,
      "outputs": [
        {
          "output_type": "stream",
          "name": "stdout",
          "text": [
            "5\n",
            "Python\n",
            "3.0\n",
            "<class 'int'>\n",
            "<class 'str'>\n",
            "<class 'float'>\n",
            "Orange\n",
            "Banana\n",
            "Cherry\n",
            "Orange\n",
            "Orange\n",
            "Orange\n"
          ]
        }
      ]
    },
    {
      "cell_type": "markdown",
      "source": [
        "Casting : If you want to specify the data type of a variable, this can be done with casting"
      ],
      "metadata": {
        "id": "v8tv1mHCggme"
      }
    },
    {
      "cell_type": "code",
      "source": [
        "x = str(3)    # x will be '3'\n",
        "y = int(3)    # y will be 3\n",
        "z = float(3)  # z will be 3.0\n",
        "\n",
        "print(x)\n",
        "print(y)\n",
        "print(z)"
      ],
      "metadata": {
        "colab": {
          "base_uri": "https://localhost:8080/"
        },
        "id": "ZHxc428Rgia3",
        "outputId": "2ef00239-50fb-4458-88d0-9a62b95d2cc8"
      },
      "execution_count": null,
      "outputs": [
        {
          "output_type": "stream",
          "name": "stdout",
          "text": [
            "3\n",
            "3\n",
            "3.0\n"
          ]
        }
      ]
    },
    {
      "cell_type": "markdown",
      "source": [
        "Global Variables"
      ],
      "metadata": {
        "id": "Np1JTBF6aTg2"
      }
    },
    {
      "cell_type": "code",
      "source": [
        "x = \"awesome\"\n",
        "\n",
        "def myfunc():\n",
        "  print(\"Python is \"+x)\n",
        "\n",
        "myfunc()"
      ],
      "metadata": {
        "colab": {
          "base_uri": "https://localhost:8080/"
        },
        "id": "20DIMI3eaK-1",
        "outputId": "b3aa37e7-2ac0-4326-bab1-27624c830a1f"
      },
      "execution_count": null,
      "outputs": [
        {
          "output_type": "stream",
          "name": "stdout",
          "text": [
            "Python is awesome\n"
          ]
        }
      ]
    },
    {
      "cell_type": "markdown",
      "source": [
        "Python has the following data types built-in by default, in these categories:\n",
        "\n",
        "Text Type :\tstr\n",
        "\n",
        "Numeric Types :\tint, float, complex\n",
        "\n",
        "Sequence Types :\tlist, tuple, range\n",
        "\n",
        "Mapping Type :\tdict\n",
        "\n",
        "Set Types :\tset, frozenset\n",
        "\n",
        "Boolean Type :\tbool\n",
        "\n",
        "Binary Types :\tbytes, bytearray, memoryview\n",
        "\n",
        "None Type :\tNoneType bold text"
      ],
      "metadata": {
        "id": "Cqo0ga1IbrC9"
      }
    },
    {
      "cell_type": "code",
      "source": [
        "# Data types in Python\n",
        "\n",
        "# Text Type: str\n",
        "string_variable = \"Hello, World!\"\n",
        "print(f\"String: {string_variable}, Type: {type(string_variable)}\")\n",
        "\n",
        "# Numeric Types: int, float, complex\n",
        "integer_variable = 10\n",
        "float_variable = 3.14\n",
        "complex_variable = 1j\n",
        "\n",
        "print(f\"Integer: {integer_variable}, Type: {type(integer_variable)}\")\n",
        "print(f\"Float: {float_variable}, Type: {type(float_variable)}\")\n",
        "print(f\"Complex: {complex_variable}, Type: {type(complex_variable)}\")\n",
        "\n",
        "\n",
        "# Sequence Types: list, tuple, range\n",
        "list_variable = [\"apple\", \"banana\", \"cherry\"]\n",
        "tuple_variable = (\"apple\", \"banana\", \"cherry\")\n",
        "range_variable = range(6)  # Creates a sequence of numbers from 0 to 5\n",
        "\n",
        "print(f\"List: {list_variable}, Type: {type(list_variable)}\")\n",
        "print(f\"Tuple: {tuple_variable}, Type: {type(tuple_variable)}\")\n",
        "print(f\"Range: {list(range_variable)}, Type: {type(range_variable)}\") # Convert range to list for printing\n",
        "\n",
        "\n",
        "# Mapping Type: dict\n",
        "dictionary_variable = {\"name\": \"John\", \"age\": 30}\n",
        "print(f\"Dictionary: {dictionary_variable}, Type: {type(dictionary_variable)}\")\n",
        "\n",
        "# Set Types: set, frozenset\n",
        "set_variable = {\"apple\", \"banana\", \"cherry\"}\n",
        "frozenset_variable = frozenset({\"apple\", \"banana\", \"cherry\"}) #immutable set\n",
        "print(f\"Set: {set_variable}, Type: {type(set_variable)}\")\n",
        "print(f\"Frozenset: {frozenset_variable}, Type: {type(frozenset_variable)}\")\n",
        "\n",
        "\n",
        "# Boolean Type: bool\n",
        "boolean_variable = True  # or False\n",
        "print(f\"Boolean: {boolean_variable}, Type: {type(boolean_variable)}\")\n",
        "\n",
        "# Binary Types: bytes, bytearray, memoryview (These are less commonly used)\n",
        "\n",
        "# None Type: NoneType\n",
        "none_variable = None\n",
        "print(f\"None: {none_variable}, Type: {type(none_variable)}\")\n"
      ],
      "metadata": {
        "colab": {
          "base_uri": "https://localhost:8080/"
        },
        "id": "K68Wdt0Jbs3b",
        "outputId": "67e0e8c9-ce38-4a83-e31b-369d2641186b"
      },
      "execution_count": null,
      "outputs": [
        {
          "output_type": "stream",
          "name": "stdout",
          "text": [
            "String: Hello, World!, Type: <class 'str'>\n",
            "Integer: 10, Type: <class 'int'>\n",
            "Float: 3.14, Type: <class 'float'>\n",
            "Complex: 1j, Type: <class 'complex'>\n",
            "List: ['apple', 'banana', 'cherry'], Type: <class 'list'>\n",
            "Tuple: ('apple', 'banana', 'cherry'), Type: <class 'tuple'>\n",
            "Range: [0, 1, 2, 3, 4, 5], Type: <class 'range'>\n",
            "Dictionary: {'name': 'John', 'age': 30}, Type: <class 'dict'>\n",
            "Set: {'apple', 'banana', 'cherry'}, Type: <class 'set'>\n",
            "Frozenset: frozenset({'apple', 'banana', 'cherry'}), Type: <class 'frozenset'>\n",
            "Boolean: True, Type: <class 'bool'>\n",
            "None: None, Type: <class 'NoneType'>\n"
          ]
        }
      ]
    },
    {
      "cell_type": "code",
      "source": [
        "print(5*6) # Multiply\n",
        "print(5+6) #add\n",
        "print(5-6)\n",
        "print(10/2)\n",
        "print(10**3)\n",
        "print(10%3)\n",
        "print(5+5*5)"
      ],
      "metadata": {
        "colab": {
          "base_uri": "https://localhost:8080/"
        },
        "id": "t_VudZMnrDa4",
        "outputId": "49316857-95cd-483d-db11-8820b6c7b19d"
      },
      "execution_count": null,
      "outputs": [
        {
          "output_type": "stream",
          "name": "stdout",
          "text": [
            "30\n",
            "11\n",
            "-1\n",
            "5.0\n",
            "1000\n",
            "1\n",
            "30\n"
          ]
        }
      ]
    },
    {
      "cell_type": "markdown",
      "source": [
        "Python Operators"
      ],
      "metadata": {
        "id": "sa_FIPi1t0gM"
      }
    },
    {
      "cell_type": "code",
      "source": [
        "\n",
        "# Python Operators\n",
        "\n",
        "# Arithmetic Operators\n",
        "print(\"Arithmetic Operators:\")\n",
        "x = 15\n",
        "y = 4\n",
        "\n",
        "print(x + y)  # Addition\n",
        "print(x - y)  # Subtraction\n",
        "print(x * y)  # Multiplication\n",
        "print(x / y)  # Division\n",
        "print(x % y)  # Modulus\n",
        "print(x ** y) # Exponentiation\n",
        "print(x // y) # Floor division\n",
        "\n",
        "\n",
        "# Comparison Operators\n",
        "print(\"\\nComparison Operators:\")\n",
        "x = 10\n",
        "y = 5\n",
        "print(x == y)  # Equal\n",
        "print(x != y)  # Not equal\n",
        "print(x > y)   # Greater than\n",
        "print(x < y)   # Less than\n",
        "print(x >= y)  # Greater than or equal to\n",
        "print(x <= y)  # Less than or equal to\n",
        "\n",
        "\n",
        "# Logical Operators\n",
        "print(\"\\nLogical Operators:\")\n",
        "x = True\n",
        "y = False\n",
        "print(x and y) # Logical AND\n",
        "print(x or y)  # Logical OR\n",
        "print(not x)   # Logical NOT\n",
        "\n",
        "\n",
        "# Bitwise Operators\n",
        "print(\"\\nBitwise Operators:\")\n",
        "x = 10\n",
        "y = 4\n",
        "\n",
        "print(x & y)  # Bitwise AND\n",
        "print(x | y)  # Bitwise OR\n",
        "print(x ^ y)  # Bitwise XOR\n",
        "print(~x)    # Bitwise NOT\n",
        "print(x << 2) # Bitwise left shift\n",
        "print(x >> 2) # Bitwise right shift\n",
        "\n",
        "\n",
        "# Assignment Operators\n",
        "print(\"\\nAssignment Operators:\")\n",
        "x = 5\n",
        "print(x)\n",
        "x += 3  # Same as x = x + 3\n",
        "print(x)\n",
        "x -= 3  # Same as x = x - 3\n",
        "print(x)\n",
        "x *= 3  # Same as x = x * 3\n",
        "print(x)\n",
        "x &= 3  # Same as x = x & 3\n",
        "print(x)\n",
        "x |= 3  # Same as x = x | 3\n",
        "print(x)\n",
        "x ^= 3  # Same as x = x ^ 3\n",
        "print(x)\n",
        "x >>= 3 # Same as x = x >> 3\n",
        "print(x)\n",
        "x <<= 3 # Same as x = x << 3\n",
        "print(x)\n",
        "\n",
        "# Identity Operators\n",
        "print(\"\\nIdentity Operators:\")\n",
        "x = [\"apple\", \"banana\"]\n",
        "y = [\"apple\", \"banana\"]\n",
        "z = x\n",
        "\n",
        "print(x is z)  # Returns True because z is the same object as x\n",
        "print(x is y)  # Returns False because x is not the same object as y, even if they have the same content\n",
        "print(x == y)  # To demonstrate the difference betweeen \"is\" and \"==\": this comparison returns True because x is equal to y\n",
        "\n",
        "\n",
        "print(x is not z)\n",
        "print(x is not y)\n",
        "print(x != y)\n",
        "\n",
        "# Membership Operators\n",
        "print(\"\\nMembership Operators:\")\n",
        "x = [\"apple\", \"banana\"]\n",
        "print(\"banana\" in x)  # Returns True because a sequence with the value \"banana\" is in the list\n",
        "print(\"pineapple\" not in x) # Returns True because a sequence with the value \"pineapple\" is not in the list\n",
        "\n",
        "\n",
        "#Other Operators\n",
        "print(\"\\nOther Operators:\")\n",
        "#Ternary Operator\n",
        "a = 10\n",
        "b = 20\n",
        "result = a if a > b else b # Returns the value of a if a>b else returns b\n",
        "result\n"
      ],
      "metadata": {
        "colab": {
          "base_uri": "https://localhost:8080/"
        },
        "id": "slQL71zht5db",
        "outputId": "14844da7-c335-4b09-b1bc-b6b24adeb238"
      },
      "execution_count": null,
      "outputs": [
        {
          "output_type": "stream",
          "name": "stdout",
          "text": [
            "Arithmetic Operators:\n",
            "19\n",
            "11\n",
            "60\n",
            "3.75\n",
            "3\n",
            "50625\n",
            "3\n",
            "\n",
            "Comparison Operators:\n",
            "False\n",
            "True\n",
            "True\n",
            "False\n",
            "True\n",
            "False\n",
            "\n",
            "Logical Operators:\n",
            "False\n",
            "True\n",
            "False\n",
            "\n",
            "Bitwise Operators:\n",
            "0\n",
            "14\n",
            "14\n",
            "-11\n",
            "40\n",
            "2\n",
            "\n",
            "Assignment Operators:\n",
            "5\n",
            "8\n",
            "5\n",
            "15\n",
            "3\n",
            "3\n",
            "0\n",
            "0\n",
            "0\n",
            "\n",
            "Identity Operators:\n",
            "True\n",
            "False\n",
            "True\n",
            "False\n",
            "True\n",
            "False\n",
            "\n",
            "Membership Operators:\n",
            "True\n",
            "True\n",
            "\n",
            "Other Operators:\n"
          ]
        },
        {
          "output_type": "execute_result",
          "data": {
            "text/plain": [
              "20"
            ]
          },
          "metadata": {},
          "execution_count": 52
        }
      ]
    },
    {
      "cell_type": "markdown",
      "source": [
        "**LIST :** Items are ordered, changeable, and allow duplicate values."
      ],
      "metadata": {
        "id": "qQf1_CeCH5Pm"
      }
    },
    {
      "cell_type": "code",
      "source": [
        "mylist = [\"Apple\", \"Banana\", \"Cherry\"]\n",
        "\n",
        "print(mylist) #Access list Items\n",
        "print(mylist[-1]) #Access list Items\n",
        "\n",
        "thislist = [\"apple\", \"banana\", \"cherry\", \"orange\", \"kiwi\", \"melon\", \"mango\"]\n",
        "\n",
        "#print(thislist[2:5]) # Return the third, fourth, and fifth item\n",
        "\n",
        "#print(thislist[0:4]) # Return\n",
        "\n",
        "#print(thislist[2:]) # Return\n",
        "\n",
        "#print(thislist[:4]) # Return\n",
        "\n",
        "print(thislist[-4:]) # Return\n",
        "\n",
        "mytuple = (\"Apple\", \"Banana\", \"Cherry\")\n",
        "\n",
        "myset = {\"Apple\", \"Banana\", \"Cherry\"}\n",
        "\n",
        "mydict = {\n",
        "  \"brand\": \"Ford\",\n",
        "  \"model\": \"Mustang\",\n",
        "  \"year\": 1964\n",
        "}\n",
        "\n",
        "print(type(mylist))\n",
        "print(type(mytuple))\n",
        "print(type(myset))\n",
        "print(type(mydict))\n",
        "\n"
      ],
      "metadata": {
        "id": "KxJYYC0YH-4L",
        "outputId": "e977e7dd-8d53-45a4-f133-97fe2ade7899",
        "colab": {
          "base_uri": "https://localhost:8080/"
        }
      },
      "execution_count": null,
      "outputs": [
        {
          "output_type": "stream",
          "name": "stdout",
          "text": [
            "['Apple', 'Banana', 'Cherry']\n",
            "Cherry\n",
            "['orange', 'kiwi', 'melon', 'mango']\n",
            "<class 'list'>\n",
            "<class 'tuple'>\n",
            "<class 'set'>\n",
            "<class 'dict'>\n"
          ]
        }
      ]
    }
  ]
}