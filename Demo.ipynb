{
  "nbformat": 4,
  "nbformat_minor": 0,
  "metadata": {
    "colab": {
      "provenance": [],
      "toc_visible": true,
      "authorship_tag": "ABX9TyMG3KZAghml9gsTMDnlFrtB",
      "include_colab_link": true
    },
    "kernelspec": {
      "name": "python3",
      "display_name": "Python 3"
    },
    "language_info": {
      "name": "python"
    }
  },
  "cells": [
    {
      "cell_type": "markdown",
      "metadata": {
        "id": "view-in-github",
        "colab_type": "text"
      },
      "source": [
        "<a href=\"https://colab.research.google.com/github/TilakVenigalla/Python/blob/main/Demo.ipynb\" target=\"_parent\"><img src=\"https://colab.research.google.com/assets/colab-badge.svg\" alt=\"Open In Colab\"/></a>"
      ]
    },
    {
      "cell_type": "markdown",
      "source": [
        "**Welcome to Python Demo**"
      ],
      "metadata": {
        "id": "wQM_BFfh_WZV"
      }
    },
    {
      "cell_type": "code",
      "execution_count": 2,
      "metadata": {
        "colab": {
          "base_uri": "https://localhost:8080/"
        },
        "id": "6ShSETAQP5Da",
        "outputId": "ac1ce3a0-9795-4ead-8595-826ddd5632f8"
      },
      "outputs": [
        {
          "output_type": "stream",
          "name": "stdout",
          "text": [
            "Welcome to Python Demo!\n"
          ]
        }
      ],
      "source": [
        "print(\"Welcome to Python Demo!\")"
      ]
    },
    {
      "cell_type": "code",
      "source": [
        "print(\"Welcome added\")"
      ],
      "metadata": {
        "id": "1rTnMa2kRUeE",
        "outputId": "8fdc1a0f-6247-4959-b563-d4b2f9f42bf8",
        "colab": {
          "base_uri": "https://localhost:8080/"
        }
      },
      "execution_count": null,
      "outputs": [
        {
          "output_type": "stream",
          "name": "stdout",
          "text": [
            "Welcome added\n"
          ]
        }
      ]
    }
  ]
}