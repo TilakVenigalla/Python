{
  "nbformat": 4,
  "nbformat_minor": 0,
  "metadata": {
    "colab": {
      "provenance": [],
      "toc_visible": true,
      "authorship_tag": "ABX9TyP+v6AZ7uvZViJA+kTH5TbI",
      "include_colab_link": true
    },
    "kernelspec": {
      "name": "python3",
      "display_name": "Python 3"
    },
    "language_info": {
      "name": "python"
    }
  },
  "cells": [
    {
      "cell_type": "markdown",
      "metadata": {
        "id": "view-in-github",
        "colab_type": "text"
      },
      "source": [
        "<a href=\"https://colab.research.google.com/github/TilakVenigalla/Python/blob/main/Demo.ipynb\" target=\"_parent\"><img src=\"https://colab.research.google.com/assets/colab-badge.svg\" alt=\"Open In Colab\"/></a>"
      ]
    },
    {
      "cell_type": "markdown",
      "source": [
        "**Welcome to Python Demo**"
      ],
      "metadata": {
        "id": "wQM_BFfh_WZV"
      }
    },
    {
      "cell_type": "code",
      "source": [
        "! python --version"
      ],
      "metadata": {
        "id": "DJgi25d0G03m",
        "outputId": "fcd2368d-4f89-42f6-b574-5479f085c50b",
        "colab": {
          "base_uri": "https://localhost:8080/"
        }
      },
      "execution_count": 25,
      "outputs": [
        {
          "output_type": "stream",
          "name": "stdout",
          "text": [
            "Python 3.11.12\n"
          ]
        }
      ]
    },
    {
      "cell_type": "code",
      "execution_count": 17,
      "metadata": {
        "colab": {
          "base_uri": "https://localhost:8080/"
        },
        "id": "6ShSETAQP5Da",
        "outputId": "fd3af321-efe9-4145-afd1-c36c91308229"
      },
      "outputs": [
        {
          "output_type": "stream",
          "name": "stdout",
          "text": [
            "Welcome to Python Demo!\n"
          ]
        }
      ],
      "source": [
        "# This is a single-line comment\n",
        "\n",
        "\"\"\"\n",
        "This is a multi-line comment.\n",
        "It can span across multiple lines.\n",
        "\"\"\"\n",
        "print(\"Welcome to Python Demo!\")\n"
      ]
    },
    {
      "cell_type": "markdown",
      "source": [
        "Variables are containers for storing data values. Python has no command for declaring a variable"
      ],
      "metadata": {
        "id": "AaW7BxLtWgbj"
      }
    },
    {
      "cell_type": "code",
      "source": [
        "x = 5  # x is of type int\n",
        "y = \"Python\"  # y is of type str\n",
        "z = float(3) # z is of type float\n",
        "print(x)\n",
        "print(y)\n",
        "print(z)"
      ],
      "metadata": {
        "id": "YIYetOGDWXeD",
        "outputId": "59cbabd7-19b5-4000-d4e1-bcffabb06ff6",
        "colab": {
          "base_uri": "https://localhost:8080/"
        }
      },
      "execution_count": 29,
      "outputs": [
        {
          "output_type": "stream",
          "name": "stdout",
          "text": [
            "5\n",
            "Python\n",
            "3.0\n"
          ]
        }
      ]
    }
  ]
}