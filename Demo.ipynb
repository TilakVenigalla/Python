{
  "nbformat": 4,
  "nbformat_minor": 0,
  "metadata": {
    "colab": {
      "provenance": [],
      "toc_visible": true,
      "authorship_tag": "ABX9TyP+ZKBLZ9tmacNJTPav/iVI",
      "include_colab_link": true
    },
    "kernelspec": {
      "name": "python3",
      "display_name": "Python 3"
    },
    "language_info": {
      "name": "python"
    }
  },
  "cells": [
    {
      "cell_type": "markdown",
      "metadata": {
        "id": "view-in-github",
        "colab_type": "text"
      },
      "source": [
        "<a href=\"https://colab.research.google.com/github/TilakVenigalla/Python/blob/main/Demo.ipynb\" target=\"_parent\"><img src=\"https://colab.research.google.com/assets/colab-badge.svg\" alt=\"Open In Colab\"/></a>"
      ]
    },
    {
      "cell_type": "markdown",
      "source": [
        "**Welcome to Python Demo**"
      ],
      "metadata": {
        "id": "wQM_BFfh_WZV"
      }
    },
    {
      "cell_type": "code",
      "source": [
        "! python --version"
      ],
      "metadata": {
        "colab": {
          "base_uri": "https://localhost:8080/"
        },
        "id": "DJgi25d0G03m",
        "outputId": "fcd2368d-4f89-42f6-b574-5479f085c50b"
      },
      "execution_count": 25,
      "outputs": [
        {
          "output_type": "stream",
          "name": "stdout",
          "text": [
            "Python 3.11.12\n"
          ]
        }
      ]
    },
    {
      "cell_type": "code",
      "execution_count": 17,
      "metadata": {
        "colab": {
          "base_uri": "https://localhost:8080/"
        },
        "id": "6ShSETAQP5Da",
        "outputId": "fd3af321-efe9-4145-afd1-c36c91308229"
      },
      "outputs": [
        {
          "output_type": "stream",
          "name": "stdout",
          "text": [
            "Welcome to Python Demo!\n"
          ]
        }
      ],
      "source": [
        "# This is a single-line comment\n",
        "\n",
        "\"\"\"\n",
        "This is a multi-line comment.\n",
        "It can span across multiple lines.\n",
        "\"\"\"\n",
        "print(\"Welcome to Python Demo!\")\n"
      ]
    },
    {
      "cell_type": "markdown",
      "source": [
        "Variables are containers for storing data values. Python has no command for declaring a variable"
      ],
      "metadata": {
        "id": "AaW7BxLtWgbj"
      }
    },
    {
      "cell_type": "code",
      "source": [
        "x = 5  # x is of type int\n",
        "y = \"Python\"  # y is of type str\n",
        "z = float(3) # z is of type float\n",
        "print(x)\n",
        "print(y)\n",
        "print(z)\n",
        "print(type(x))\n",
        "print(type(y))\n",
        "print(type(z))\n",
        "\n",
        "# Assign values to multiple variables in one line\n",
        "x, y, z = \"Orange\", \"Banana\", \"Cherry\"\n",
        "print(x)\n",
        "print(y)\n",
        "print(z)\n",
        "\n",
        "# Assign the same value to multiple variables in one line\n",
        "x = y = z = \"Orange\"\n",
        "print(x)\n",
        "print(y)\n",
        "print(z)"
      ],
      "metadata": {
        "colab": {
          "base_uri": "https://localhost:8080/"
        },
        "id": "YIYetOGDWXeD",
        "outputId": "4e776b81-d26c-427e-c832-3a1bafd6d890"
      },
      "execution_count": 34,
      "outputs": [
        {
          "output_type": "stream",
          "name": "stdout",
          "text": [
            "5\n",
            "Python\n",
            "3.0\n",
            "<class 'int'>\n",
            "<class 'str'>\n",
            "<class 'float'>\n",
            "Orange\n",
            "Banana\n",
            "Cherry\n",
            "Orange\n",
            "Orange\n",
            "Orange\n"
          ]
        }
      ]
    },
    {
      "cell_type": "markdown",
      "source": [
        "Casting : If you want to specify the data type of a variable, this can be done with casting"
      ],
      "metadata": {
        "id": "v8tv1mHCggme"
      }
    },
    {
      "cell_type": "code",
      "source": [
        "x = str(3)    # x will be '3'\n",
        "y = int(3)    # y will be 3\n",
        "z = float(3)  # z will be 3.0\n",
        "\n",
        "print(x)\n",
        "print(y)\n",
        "print(z)"
      ],
      "metadata": {
        "id": "ZHxc428Rgia3",
        "outputId": "2ef00239-50fb-4458-88d0-9a62b95d2cc8",
        "colab": {
          "base_uri": "https://localhost:8080/"
        }
      },
      "execution_count": 43,
      "outputs": [
        {
          "output_type": "stream",
          "name": "stdout",
          "text": [
            "3\n",
            "3\n",
            "3.0\n"
          ]
        }
      ]
    },
    {
      "cell_type": "markdown",
      "source": [
        "Global Variables"
      ],
      "metadata": {
        "id": "Np1JTBF6aTg2"
      }
    },
    {
      "cell_type": "code",
      "source": [
        "x = \"awesome\"\n",
        "\n",
        "def myfunc():\n",
        "  print(\"Python is \"+x)\n",
        "\n",
        "myfunc()"
      ],
      "metadata": {
        "id": "20DIMI3eaK-1",
        "outputId": "b3aa37e7-2ac0-4326-bab1-27624c830a1f",
        "colab": {
          "base_uri": "https://localhost:8080/"
        }
      },
      "execution_count": 39,
      "outputs": [
        {
          "output_type": "stream",
          "name": "stdout",
          "text": [
            "Python is awesome\n"
          ]
        }
      ]
    },
    {
      "cell_type": "markdown",
      "source": [
        "Python has the following data types built-in by default, in these categories:\n",
        "\n",
        "Text Type :\tstr\n",
        "\n",
        "Numeric Types :\tint, float, complex\n",
        "\n",
        "Sequence Types :\tlist, tuple, range\n",
        "\n",
        "Mapping Type :\tdict\n",
        "\n",
        "Set Types :\tset, frozenset\n",
        "\n",
        "Boolean Type :\tbool\n",
        "\n",
        "Binary Types :\tbytes, bytearray, memoryview\n",
        "\n",
        "None Type :\tNoneType bold text"
      ],
      "metadata": {
        "id": "Cqo0ga1IbrC9"
      }
    },
    {
      "cell_type": "code",
      "source": [
        "# Data types in Python\n",
        "\n",
        "# Text Type: str\n",
        "string_variable = \"Hello, World!\"\n",
        "print(f\"String: {string_variable}, Type: {type(string_variable)}\")\n",
        "\n",
        "# Numeric Types: int, float, complex\n",
        "integer_variable = 10\n",
        "float_variable = 3.14\n",
        "complex_variable = 1j\n",
        "\n",
        "print(f\"Integer: {integer_variable}, Type: {type(integer_variable)}\")\n",
        "print(f\"Float: {float_variable}, Type: {type(float_variable)}\")\n",
        "print(f\"Complex: {complex_variable}, Type: {type(complex_variable)}\")\n",
        "\n",
        "\n",
        "# Sequence Types: list, tuple, range\n",
        "list_variable = [\"apple\", \"banana\", \"cherry\"]\n",
        "tuple_variable = (\"apple\", \"banana\", \"cherry\")\n",
        "range_variable = range(6)  # Creates a sequence of numbers from 0 to 5\n",
        "\n",
        "print(f\"List: {list_variable}, Type: {type(list_variable)}\")\n",
        "print(f\"Tuple: {tuple_variable}, Type: {type(tuple_variable)}\")\n",
        "print(f\"Range: {list(range_variable)}, Type: {type(range_variable)}\") # Convert range to list for printing\n",
        "\n",
        "\n",
        "# Mapping Type: dict\n",
        "dictionary_variable = {\"name\": \"John\", \"age\": 30}\n",
        "print(f\"Dictionary: {dictionary_variable}, Type: {type(dictionary_variable)}\")\n",
        "\n",
        "# Set Types: set, frozenset\n",
        "set_variable = {\"apple\", \"banana\", \"cherry\"}\n",
        "frozenset_variable = frozenset({\"apple\", \"banana\", \"cherry\"}) #immutable set\n",
        "print(f\"Set: {set_variable}, Type: {type(set_variable)}\")\n",
        "print(f\"Frozenset: {frozenset_variable}, Type: {type(frozenset_variable)}\")\n",
        "\n",
        "\n",
        "# Boolean Type: bool\n",
        "boolean_variable = True  # or False\n",
        "print(f\"Boolean: {boolean_variable}, Type: {type(boolean_variable)}\")\n",
        "\n",
        "# Binary Types: bytes, bytearray, memoryview (These are less commonly used)\n",
        "\n",
        "# None Type: NoneType\n",
        "none_variable = None\n",
        "print(f\"None: {none_variable}, Type: {type(none_variable)}\")\n"
      ],
      "metadata": {
        "id": "K68Wdt0Jbs3b",
        "outputId": "67e0e8c9-ce38-4a83-e31b-369d2641186b",
        "colab": {
          "base_uri": "https://localhost:8080/"
        }
      },
      "execution_count": 41,
      "outputs": [
        {
          "output_type": "stream",
          "name": "stdout",
          "text": [
            "String: Hello, World!, Type: <class 'str'>\n",
            "Integer: 10, Type: <class 'int'>\n",
            "Float: 3.14, Type: <class 'float'>\n",
            "Complex: 1j, Type: <class 'complex'>\n",
            "List: ['apple', 'banana', 'cherry'], Type: <class 'list'>\n",
            "Tuple: ('apple', 'banana', 'cherry'), Type: <class 'tuple'>\n",
            "Range: [0, 1, 2, 3, 4, 5], Type: <class 'range'>\n",
            "Dictionary: {'name': 'John', 'age': 30}, Type: <class 'dict'>\n",
            "Set: {'apple', 'banana', 'cherry'}, Type: <class 'set'>\n",
            "Frozenset: frozenset({'apple', 'banana', 'cherry'}), Type: <class 'frozenset'>\n",
            "Boolean: True, Type: <class 'bool'>\n",
            "None: None, Type: <class 'NoneType'>\n"
          ]
        }
      ]
    }
  ]
}