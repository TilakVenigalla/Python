{
  "nbformat": 4,
  "nbformat_minor": 0,
  "metadata": {
    "colab": {
      "provenance": [],
      "authorship_tag": "ABX9TyOi/NILv6ORDHBUV06wEpoX",
      "include_colab_link": true
    },
    "kernelspec": {
      "name": "python3",
      "display_name": "Python 3"
    },
    "language_info": {
      "name": "python"
    }
  },
  "cells": [
    {
      "cell_type": "markdown",
      "metadata": {
        "id": "view-in-github",
        "colab_type": "text"
      },
      "source": [
        "<a href=\"https://colab.research.google.com/github/TilakVenigalla/Python/blob/main/Demo.ipynb\" target=\"_parent\"><img src=\"https://colab.research.google.com/assets/colab-badge.svg\" alt=\"Open In Colab\"/></a>"
      ]
    },
    {
      "cell_type": "markdown",
      "source": [
        "**Welcome to Python Demo**"
      ],
      "metadata": {
        "id": "wQM_BFfh_WZV"
      }
    },
    {
      "cell_type": "code",
      "source": [
        "! python --version"
      ],
      "metadata": {
        "colab": {
          "base_uri": "https://localhost:8080/"
        },
        "id": "DJgi25d0G03m",
        "outputId": "58779795-441f-4203-8039-d76ecec568ee"
      },
      "execution_count": null,
      "outputs": [
        {
          "output_type": "stream",
          "name": "stdout",
          "text": [
            "Python 3.11.12\n"
          ]
        }
      ]
    },
    {
      "cell_type": "code",
      "execution_count": null,
      "metadata": {
        "colab": {
          "base_uri": "https://localhost:8080/"
        },
        "id": "6ShSETAQP5Da",
        "outputId": "fd3af321-efe9-4145-afd1-c36c91308229"
      },
      "outputs": [
        {
          "output_type": "stream",
          "name": "stdout",
          "text": [
            "Welcome to Python Demo!\n"
          ]
        }
      ],
      "source": [
        "# This is a single-line comment\n",
        "\n",
        "\"\"\"\n",
        "This is a multi-line comment.\n",
        "It can span across multiple lines.\n",
        "\"\"\"\n",
        "print(\"Welcome to Python Demo!\")\n"
      ]
    },
    {
      "cell_type": "markdown",
      "source": [
        "Variables are containers for storing data values. Python has no command for declaring a variable"
      ],
      "metadata": {
        "id": "AaW7BxLtWgbj"
      }
    },
    {
      "cell_type": "code",
      "source": [
        "x = 5  # x is of type int\n",
        "y = \"Python\"  # y is of type str\n",
        "z = float(3) # z is of type float\n",
        "print(x)\n",
        "print(y)\n",
        "print(z)\n",
        "print(type(x))\n",
        "print(type(y))\n",
        "print(type(z))\n",
        "\n",
        "# Assign values to multiple variables in one line\n",
        "x, y, z = \"Orange\", \"Banana\", \"Cherry\"\n",
        "print(x)\n",
        "print(y)\n",
        "print(z)\n",
        "\n",
        "# Assign the same value to multiple variables in one line\n",
        "x = y = z = \"Orange\"\n",
        "print(x)\n",
        "print(y)\n",
        "print(z)"
      ],
      "metadata": {
        "colab": {
          "base_uri": "https://localhost:8080/"
        },
        "id": "YIYetOGDWXeD",
        "outputId": "4e776b81-d26c-427e-c832-3a1bafd6d890"
      },
      "execution_count": null,
      "outputs": [
        {
          "output_type": "stream",
          "name": "stdout",
          "text": [
            "5\n",
            "Python\n",
            "3.0\n",
            "<class 'int'>\n",
            "<class 'str'>\n",
            "<class 'float'>\n",
            "Orange\n",
            "Banana\n",
            "Cherry\n",
            "Orange\n",
            "Orange\n",
            "Orange\n"
          ]
        }
      ]
    },
    {
      "cell_type": "markdown",
      "source": [
        "Casting : If you want to specify the data type of a variable, this can be done with casting"
      ],
      "metadata": {
        "id": "v8tv1mHCggme"
      }
    },
    {
      "cell_type": "code",
      "source": [
        "x = str(3)    # x will be '3'\n",
        "y = int(3)    # y will be 3\n",
        "z = float(3)  # z will be 3.0\n",
        "\n",
        "print(x)\n",
        "print(y)\n",
        "print(z)"
      ],
      "metadata": {
        "colab": {
          "base_uri": "https://localhost:8080/"
        },
        "id": "ZHxc428Rgia3",
        "outputId": "2ef00239-50fb-4458-88d0-9a62b95d2cc8"
      },
      "execution_count": null,
      "outputs": [
        {
          "output_type": "stream",
          "name": "stdout",
          "text": [
            "3\n",
            "3\n",
            "3.0\n"
          ]
        }
      ]
    },
    {
      "cell_type": "markdown",
      "source": [
        "Global Variables"
      ],
      "metadata": {
        "id": "Np1JTBF6aTg2"
      }
    },
    {
      "cell_type": "code",
      "source": [
        "x = \"awesome\"\n",
        "\n",
        "def myfunc():\n",
        "  print(\"Python is \"+x)\n",
        "\n",
        "myfunc()"
      ],
      "metadata": {
        "colab": {
          "base_uri": "https://localhost:8080/"
        },
        "id": "20DIMI3eaK-1",
        "outputId": "b3aa37e7-2ac0-4326-bab1-27624c830a1f"
      },
      "execution_count": null,
      "outputs": [
        {
          "output_type": "stream",
          "name": "stdout",
          "text": [
            "Python is awesome\n"
          ]
        }
      ]
    },
    {
      "cell_type": "markdown",
      "source": [
        "Python has the following data types built-in by default, in these categories:\n",
        "\n",
        "Text Type :\tstr\n",
        "\n",
        "Numeric Types :\tint, float, complex\n",
        "\n",
        "Sequence Types :\tlist, tuple, range\n",
        "\n",
        "Mapping Type :\tdict\n",
        "\n",
        "Set Types :\tset, frozenset\n",
        "\n",
        "Boolean Type :\tbool\n",
        "\n",
        "Binary Types :\tbytes, bytearray, memoryview\n",
        "\n",
        "None Type :\tNoneType bold text"
      ],
      "metadata": {
        "id": "Cqo0ga1IbrC9"
      }
    },
    {
      "cell_type": "code",
      "source": [
        "# Data types in Python\n",
        "\n",
        "# Text Type: str\n",
        "string_variable = \"Hello, World!\"\n",
        "print(f\"String: {string_variable}, Type: {type(string_variable)}\")\n",
        "\n",
        "# Numeric Types: int, float, complex\n",
        "integer_variable = 10\n",
        "float_variable = 3.14\n",
        "complex_variable = 1j\n",
        "\n",
        "print(f\"Integer: {integer_variable}, Type: {type(integer_variable)}\")\n",
        "print(f\"Float: {float_variable}, Type: {type(float_variable)}\")\n",
        "print(f\"Complex: {complex_variable}, Type: {type(complex_variable)}\")\n",
        "\n",
        "\n",
        "# Sequence Types: list, tuple, range\n",
        "list_variable = [\"apple\", \"banana\", \"cherry\"]\n",
        "tuple_variable = (\"apple\", \"banana\", \"cherry\")\n",
        "range_variable = range(6)  # Creates a sequence of numbers from 0 to 5\n",
        "\n",
        "print(f\"List: {list_variable}, Type: {type(list_variable)}\")\n",
        "print(f\"Tuple: {tuple_variable}, Type: {type(tuple_variable)}\")\n",
        "print(f\"Range: {list(range_variable)}, Type: {type(range_variable)}\") # Convert range to list for printing\n",
        "\n",
        "\n",
        "# Mapping Type: dict\n",
        "dictionary_variable = {\"name\": \"John\", \"age\": 30}\n",
        "print(f\"Dictionary: {dictionary_variable}, Type: {type(dictionary_variable)}\")\n",
        "\n",
        "# Set Types: set, frozenset\n",
        "set_variable = {\"apple\", \"banana\", \"cherry\"}\n",
        "frozenset_variable = frozenset({\"apple\", \"banana\", \"cherry\"}) #immutable set\n",
        "print(f\"Set: {set_variable}, Type: {type(set_variable)}\")\n",
        "print(f\"Frozenset: {frozenset_variable}, Type: {type(frozenset_variable)}\")\n",
        "\n",
        "\n",
        "# Boolean Type: bool\n",
        "boolean_variable = True  # or False\n",
        "print(f\"Boolean: {boolean_variable}, Type: {type(boolean_variable)}\")\n",
        "\n",
        "# Binary Types: bytes, bytearray, memoryview (These are less commonly used)\n",
        "\n",
        "# None Type: NoneType\n",
        "none_variable = None\n",
        "print(f\"None: {none_variable}, Type: {type(none_variable)}\")\n"
      ],
      "metadata": {
        "colab": {
          "base_uri": "https://localhost:8080/"
        },
        "id": "K68Wdt0Jbs3b",
        "outputId": "67e0e8c9-ce38-4a83-e31b-369d2641186b"
      },
      "execution_count": null,
      "outputs": [
        {
          "output_type": "stream",
          "name": "stdout",
          "text": [
            "String: Hello, World!, Type: <class 'str'>\n",
            "Integer: 10, Type: <class 'int'>\n",
            "Float: 3.14, Type: <class 'float'>\n",
            "Complex: 1j, Type: <class 'complex'>\n",
            "List: ['apple', 'banana', 'cherry'], Type: <class 'list'>\n",
            "Tuple: ('apple', 'banana', 'cherry'), Type: <class 'tuple'>\n",
            "Range: [0, 1, 2, 3, 4, 5], Type: <class 'range'>\n",
            "Dictionary: {'name': 'John', 'age': 30}, Type: <class 'dict'>\n",
            "Set: {'apple', 'banana', 'cherry'}, Type: <class 'set'>\n",
            "Frozenset: frozenset({'apple', 'banana', 'cherry'}), Type: <class 'frozenset'>\n",
            "Boolean: True, Type: <class 'bool'>\n",
            "None: None, Type: <class 'NoneType'>\n"
          ]
        }
      ]
    },
    {
      "cell_type": "code",
      "source": [
        "print(5*6) # Multiply\n",
        "print(5+6) #add\n",
        "print(5-6)\n",
        "print(10/2)\n",
        "print(10**3)\n",
        "print(10%3)\n",
        "print(5+5*5)"
      ],
      "metadata": {
        "colab": {
          "base_uri": "https://localhost:8080/"
        },
        "id": "t_VudZMnrDa4",
        "outputId": "49316857-95cd-483d-db11-8820b6c7b19d"
      },
      "execution_count": null,
      "outputs": [
        {
          "output_type": "stream",
          "name": "stdout",
          "text": [
            "30\n",
            "11\n",
            "-1\n",
            "5.0\n",
            "1000\n",
            "1\n",
            "30\n"
          ]
        }
      ]
    },
    {
      "cell_type": "markdown",
      "source": [
        "Python Operators"
      ],
      "metadata": {
        "id": "sa_FIPi1t0gM"
      }
    },
    {
      "cell_type": "code",
      "source": [
        "\n",
        "# Python Operators\n",
        "\n",
        "# Arithmetic Operators\n",
        "print(\"Arithmetic Operators:\")\n",
        "x = 15\n",
        "y = 4\n",
        "\n",
        "print(x + y)  # Addition\n",
        "print(x - y)  # Subtraction\n",
        "print(x * y)  # Multiplication\n",
        "print(x / y)  # Division\n",
        "print(x % y)  # Modulus\n",
        "print(x ** y) # Exponentiation\n",
        "print(x // y) # Floor division\n",
        "\n",
        "\n",
        "# Comparison Operators\n",
        "print(\"\\nComparison Operators:\")\n",
        "x = 10\n",
        "y = 5\n",
        "print(x == y)  # Equal\n",
        "print(x != y)  # Not equal\n",
        "print(x > y)   # Greater than\n",
        "print(x < y)   # Less than\n",
        "print(x >= y)  # Greater than or equal to\n",
        "print(x <= y)  # Less than or equal to\n",
        "\n",
        "\n",
        "# Logical Operators\n",
        "print(\"\\nLogical Operators:\")\n",
        "x = True\n",
        "y = False\n",
        "print(x and y) # Logical AND\n",
        "print(x or y)  # Logical OR\n",
        "print(not x)   # Logical NOT\n",
        "\n",
        "\n",
        "# Bitwise Operators\n",
        "print(\"\\nBitwise Operators:\")\n",
        "x = 10\n",
        "y = 4\n",
        "\n",
        "print(x & y)  # Bitwise AND\n",
        "print(x | y)  # Bitwise OR\n",
        "print(x ^ y)  # Bitwise XOR\n",
        "print(~x)    # Bitwise NOT\n",
        "print(x << 2) # Bitwise left shift\n",
        "print(x >> 2) # Bitwise right shift\n",
        "\n",
        "\n",
        "# Assignment Operators\n",
        "print(\"\\nAssignment Operators:\")\n",
        "x = 5\n",
        "print(x)\n",
        "x += 3  # Same as x = x + 3\n",
        "print(x)\n",
        "x -= 3  # Same as x = x - 3\n",
        "print(x)\n",
        "x *= 3  # Same as x = x * 3\n",
        "print(x)\n",
        "x &= 3  # Same as x = x & 3\n",
        "print(x)\n",
        "x |= 3  # Same as x = x | 3\n",
        "print(x)\n",
        "x ^= 3  # Same as x = x ^ 3\n",
        "print(x)\n",
        "x >>= 3 # Same as x = x >> 3\n",
        "print(x)\n",
        "x <<= 3 # Same as x = x << 3\n",
        "print(x)\n",
        "\n",
        "# Identity Operators\n",
        "print(\"\\nIdentity Operators:\")\n",
        "x = [\"apple\", \"banana\"]\n",
        "y = [\"apple\", \"banana\"]\n",
        "z = x\n",
        "\n",
        "print(x is z)  # Returns True because z is the same object as x\n",
        "print(x is y)  # Returns False because x is not the same object as y, even if they have the same content\n",
        "print(x == y)  # To demonstrate the difference betweeen \"is\" and \"==\": this comparison returns True because x is equal to y\n",
        "\n",
        "\n",
        "print(x is not z)\n",
        "print(x is not y)\n",
        "print(x != y)\n",
        "\n",
        "# Membership Operators\n",
        "print(\"\\nMembership Operators:\")\n",
        "x = [\"apple\", \"banana\"]\n",
        "print(\"banana\" in x)  # Returns True because a sequence with the value \"banana\" is in the list\n",
        "print(\"pineapple\" not in x) # Returns True because a sequence with the value \"pineapple\" is not in the list\n",
        "\n",
        "\n",
        "#Other Operators\n",
        "print(\"\\nOther Operators:\")\n",
        "#Ternary Operator\n",
        "a = 10\n",
        "b = 20\n",
        "result = a if a > b else b # Returns the value of a if a>b else returns b\n",
        "result\n"
      ],
      "metadata": {
        "colab": {
          "base_uri": "https://localhost:8080/"
        },
        "id": "slQL71zht5db",
        "outputId": "14844da7-c335-4b09-b1bc-b6b24adeb238"
      },
      "execution_count": null,
      "outputs": [
        {
          "output_type": "stream",
          "name": "stdout",
          "text": [
            "Arithmetic Operators:\n",
            "19\n",
            "11\n",
            "60\n",
            "3.75\n",
            "3\n",
            "50625\n",
            "3\n",
            "\n",
            "Comparison Operators:\n",
            "False\n",
            "True\n",
            "True\n",
            "False\n",
            "True\n",
            "False\n",
            "\n",
            "Logical Operators:\n",
            "False\n",
            "True\n",
            "False\n",
            "\n",
            "Bitwise Operators:\n",
            "0\n",
            "14\n",
            "14\n",
            "-11\n",
            "40\n",
            "2\n",
            "\n",
            "Assignment Operators:\n",
            "5\n",
            "8\n",
            "5\n",
            "15\n",
            "3\n",
            "3\n",
            "0\n",
            "0\n",
            "0\n",
            "\n",
            "Identity Operators:\n",
            "True\n",
            "False\n",
            "True\n",
            "False\n",
            "True\n",
            "False\n",
            "\n",
            "Membership Operators:\n",
            "True\n",
            "True\n",
            "\n",
            "Other Operators:\n"
          ]
        },
        {
          "output_type": "execute_result",
          "data": {
            "text/plain": [
              "20"
            ]
          },
          "metadata": {},
          "execution_count": 52
        }
      ]
    },
    {
      "cell_type": "markdown",
      "source": [
        "**LIST :** Items are ordered, mutable, and allow duplicate values."
      ],
      "metadata": {
        "id": "qQf1_CeCH5Pm"
      }
    },
    {
      "cell_type": "code",
      "source": [
        "#Access list Items\n",
        "mylist = [\"Apple\", \"Banana\", \"Cherry\"]\n",
        "\n",
        "print(mylist)\n",
        "print(mylist[-1])\n",
        "\n",
        "thislist = [\"apple\", \"banana\", \"cherry\", \"orange\", \"kiwi\", \"melon\", \"mango\"]\n",
        "print(type(mylist))\n",
        "\n",
        "print(thislist[2:5])\n",
        "print(thislist[0:4])\n",
        "print(thislist[2:])\n",
        "print(thislist[:4])\n",
        "print(thislist[-4:])\n",
        "\n",
        "# Change Item Value\n",
        "\n",
        "thislist = [\"apple\", \"banana\", \"cherry\"]\n",
        "thislist[1] = \"blackcurrant\"\n",
        "print(thislist)\n",
        "\n",
        "# To add an item to the end of the list, use the append() method\n",
        "\n",
        "thislist = [\"apple\", \"banana\", \"cherry\"]\n",
        "thislist.append(\"orange\")\n",
        "print(thislist)\n",
        "\n",
        "#The insert() method inserts an item at the specified index:\n",
        "\n",
        "thislist = [\"apple\", \"banana\", \"cherry\"]\n",
        "thislist.insert(1, \"orange\")\n",
        "print(thislist)\n",
        "\n",
        "# The remove() method removes the specified item\n",
        "thislist = [\"apple\", \"banana\", \"cherry\"]\n",
        "thislist.remove(\"banana\")\n",
        "print(thislist)\n",
        "\n",
        "# loop through the list items by using a for loop\n",
        "\n",
        "thislist = [\"apple\", \"banana\", \"cherry\"]\n",
        "for x in thislist:\n",
        "  print(x)\n",
        "\n",
        "thislist = [\"apple\", \"banana\", \"cherry\"]\n",
        "for i in range(len(thislist)):\n",
        "  print(thislist[i])\n",
        "\n",
        "# Allow Duplicates\n",
        "\n",
        "thislist = [\"apple\", \"banana\", \"cherry\", \"apple\", \"cherry\"]\n",
        "print(thislist)"
      ],
      "metadata": {
        "id": "KxJYYC0YH-4L",
        "outputId": "5a22cdcd-a5c9-4f16-f0c1-54344626490e",
        "colab": {
          "base_uri": "https://localhost:8080/"
        }
      },
      "execution_count": null,
      "outputs": [
        {
          "output_type": "stream",
          "name": "stdout",
          "text": [
            "['Apple', 'Banana', 'Cherry']\n",
            "Cherry\n",
            "<class 'list'>\n",
            "['cherry', 'orange', 'kiwi']\n",
            "['apple', 'banana', 'cherry', 'orange']\n",
            "['cherry', 'orange', 'kiwi', 'melon', 'mango']\n",
            "['apple', 'banana', 'cherry', 'orange']\n",
            "['orange', 'kiwi', 'melon', 'mango']\n",
            "['apple', 'blackcurrant', 'cherry']\n",
            "['apple', 'banana', 'cherry', 'orange']\n",
            "['apple', 'orange', 'banana', 'cherry']\n",
            "['apple', 'cherry']\n",
            "apple\n",
            "banana\n",
            "cherry\n",
            "apple\n",
            "banana\n",
            "cherry\n"
          ]
        }
      ]
    },
    {
      "cell_type": "markdown",
      "source": [
        "**Tuple** is a collection which is ordered and unchangeable/immutable"
      ],
      "metadata": {
        "id": "VNHeGSn1X98s"
      }
    },
    {
      "cell_type": "code",
      "source": [
        "# Access Tuple Items\n",
        "\n",
        "thistuple = (\"apple\", \"banana\", \"cherry\")\n",
        "print(thistuple[1])\n",
        "\n",
        "thistuple = (\"apple\", \"banana\", \"cherry\")\n",
        "print(thistuple[-1])\n",
        "\n",
        "# Convert the tuple into a list to be able to change it\n",
        "\n",
        "x = (\"apple\", \"banana\", \"cherry\")\n",
        "y = list(x)\n",
        "y[1] = \"kiwi\"\n",
        "x = tuple(y)\n",
        "\n",
        "print(x)\n",
        "\n",
        "# loop through the tuple items by using a for loop\n",
        "thistuple = (\"apple\", \"banana\", \"cherry\")\n",
        "for x in thistuple:\n",
        "  print(x)"
      ],
      "metadata": {
        "colab": {
          "base_uri": "https://localhost:8080/"
        },
        "id": "iF_CQMsyZyj7",
        "outputId": "f86ea90c-8b4c-4dd7-ab5b-03a1764727a4"
      },
      "execution_count": null,
      "outputs": [
        {
          "output_type": "stream",
          "name": "stdout",
          "text": [
            "banana\n",
            "cherry\n",
            "('apple', 'kiwi', 'cherry')\n",
            "apple\n",
            "banana\n",
            "cherry\n"
          ]
        }
      ]
    },
    {
      "cell_type": "markdown",
      "source": [
        "A set is a collection which is unordered, unchangeable*, and unindexed"
      ],
      "metadata": {
        "id": "y9y4qI8paklX"
      }
    },
    {
      "cell_type": "code",
      "source": [
        "thisset = {\"apple\", \"banana\", \"cherry\"}\n",
        "print(thisset)\n",
        "\n",
        "#Duplicates Not Allowed\n",
        "thisset = {\"apple\", \"banana\", \"cherry\",\"apple\"}\n",
        "print(thisset)\n",
        "\n",
        "thisset = {\"apple\", \"banana\", \"cherry\",\"kiwi\"}\n",
        "# for loop\n",
        "for x in thisset:\n",
        "  print(x)\n",
        "\n",
        "# Add an item to a set, using the add() method:\n",
        "thisset = {\"apple\", \"banana\", \"cherry\"}\n",
        "thisset.add(\"orange\")\n",
        "print(thisset)\n",
        "\n",
        "#To remove an item in a set\n",
        "thisset.remove(\"banana\")\n",
        "print(thisset)"
      ],
      "metadata": {
        "colab": {
          "base_uri": "https://localhost:8080/"
        },
        "id": "OrMGUCfaazZr",
        "outputId": "5f33c05c-3116-4750-b73f-116fbafca24e"
      },
      "execution_count": null,
      "outputs": [
        {
          "output_type": "stream",
          "name": "stdout",
          "text": [
            "{'apple', 'cherry', 'banana'}\n",
            "{'apple', 'cherry', 'banana'}\n",
            "apple\n",
            "cherry\n",
            "kiwi\n",
            "banana\n",
            "{'orange', 'apple', 'cherry', 'banana'}\n",
            "{'orange', 'apple', 'cherry'}\n"
          ]
        }
      ]
    },
    {
      "cell_type": "markdown",
      "source": [
        "Dictionaries are used to store data values in key:value pairs.\n",
        "\n",
        "A dictionary is a collection which is ordered*, changeable and do not allow duplicates"
      ],
      "metadata": {
        "id": "cjSa8g-2dIwu"
      }
    },
    {
      "cell_type": "code",
      "source": [
        "# Accessing Items\n",
        "thisdict = {\n",
        "  \"brand\": \"Ford\",\n",
        "  \"model\": \"Mustang\",\n",
        "  \"year\": 1964\n",
        "}\n",
        "print(thisdict)\n",
        "x = thisdict[\"model\"]\n",
        "print(x)\n",
        "\n",
        "# Change Values\n",
        "thisdict[\"year\"] = 2018\n",
        "print(thisdict)\n",
        "\n",
        "# Adding Items\n",
        "thisdict[\"color\"] = \"red\"\n",
        "print(thisdict)\n",
        "\n",
        "# Removing Items\n",
        "thisdict.pop(\"model\")\n",
        "print(thisdict)\n"
      ],
      "metadata": {
        "colab": {
          "base_uri": "https://localhost:8080/"
        },
        "id": "DHkQznV5dYkz",
        "outputId": "a124b597-1694-4785-b1d8-70838ec2a670"
      },
      "execution_count": null,
      "outputs": [
        {
          "output_type": "stream",
          "name": "stdout",
          "text": [
            "{'brand': 'Ford', 'model': 'Mustang', 'year': 1964}\n",
            "Mustang\n",
            "{'brand': 'Ford', 'model': 'Mustang', 'year': 2018}\n",
            "{'brand': 'Ford', 'model': 'Mustang', 'year': 2018, 'color': 'red'}\n",
            "{'brand': 'Ford', 'year': 2018, 'color': 'red'}\n"
          ]
        }
      ]
    },
    {
      "cell_type": "markdown",
      "source": [
        "Conditional statements"
      ],
      "metadata": {
        "id": "rlJcdJFm2RWS"
      }
    },
    {
      "cell_type": "code",
      "source": [
        "# if / elif / else\n",
        "\n",
        "a = 600\n",
        "b = 500\n",
        "\n",
        "if (a>b):\n",
        "  print (\"a value is greater than b\")\n",
        "elif a == b:\n",
        "  print(\"a value is equal to b\")\n",
        "else:\n",
        "  print(\"a value is less than b\")\n",
        "\n",
        "\n",
        "# match statement selects one of many code blocks to be executed\n",
        "day = 5\n",
        "match day:\n",
        "  case 1:\n",
        "    print(\"Monday\")\n",
        "  case 2:\n",
        "    print(\"Tuesday\")\n",
        "  case 3:\n",
        "    print(\"Wednesday\")\n",
        "  case 4:\n",
        "    print(\"Thursday\")\n",
        "  case 5:\n",
        "    print(\"Friday\")\n",
        "  case 6:\n",
        "    print(\"Saturday\")\n",
        "  case 7:\n",
        "    print(\"Sunday\")\n",
        "\n",
        "# while\n",
        "i = 1\n",
        "while i < 6:\n",
        "  print(i)\n",
        "  i += 1\n",
        "\n",
        "# for\n",
        "fruits = [\"apple\", \"banana\", \"cherry\"]\n",
        "for x in fruits:\n",
        "  print(x)\n",
        "\n",
        "#lambda function is a small anonymous function\n",
        "#lambda arguments : expression\n",
        "x = lambda a : a + 10\n",
        "print(x(5))"
      ],
      "metadata": {
        "colab": {
          "base_uri": "https://localhost:8080/"
        },
        "id": "WDvJKUO9xXs6",
        "outputId": "98309783-bead-48da-ddaf-f5159ce41124"
      },
      "execution_count": 1,
      "outputs": [
        {
          "output_type": "stream",
          "name": "stdout",
          "text": [
            "a value is greater than b\n",
            "Friday\n",
            "1\n",
            "2\n",
            "3\n",
            "4\n",
            "5\n",
            "apple\n",
            "banana\n",
            "cherry\n",
            "15\n"
          ]
        }
      ]
    },
    {
      "cell_type": "markdown",
      "source": [
        "Import datetime"
      ],
      "metadata": {
        "id": "AUB19bkz-cmr"
      }
    },
    {
      "cell_type": "code",
      "source": [
        "import datetime\n",
        "\n",
        "x = datetime.datetime.now()\n",
        "print(x)"
      ],
      "metadata": {
        "colab": {
          "base_uri": "https://localhost:8080/"
        },
        "id": "H0q-3cpX-U0j",
        "outputId": "b02ffaf4-2ddf-4b27-f788-ab1c4956fa33"
      },
      "execution_count": null,
      "outputs": [
        {
          "output_type": "stream",
          "name": "stdout",
          "text": [
            "2025-04-23 09:28:21.903254\n"
          ]
        }
      ]
    },
    {
      "cell_type": "markdown",
      "source": [
        "![image.png](data:image/png;base64,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)"
      ],
      "metadata": {
        "id": "eHHNmOd3fkVe"
      }
    },
    {
      "cell_type": "markdown",
      "source": [
        "Choosing the Right Data Structure\n",
        "\n",
        "The best data structure to use depends on the specific problem you're trying to solve:\n",
        "\n",
        "**List:** Use when you need an ordered collection of items that you might need to modify.\n",
        "\n",
        "**Tuple:** Use when you need an ordered collection of items that should not be modified.\n",
        "\n",
        "**Set:** Use when you need to store a collection of unique items and perform set operations or membership testing.\n",
        "\n",
        "**Dictionary:** Use when you need to store and retrieve data based on a key-value relationship."
      ],
      "metadata": {
        "id": "OZvJGL2Fg9yr"
      }
    },
    {
      "cell_type": "markdown",
      "source": [],
      "metadata": {
        "id": "U-HbhafmhUSW"
      }
    }
  ]
}